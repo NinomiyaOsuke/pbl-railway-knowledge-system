{
 "cells": [
  {
   "cell_type": "markdown",
   "metadata": {},
   "source": [
    "# Scraping(In progress)"
   ]
  },
  {
   "cell_type": "code",
   "execution_count": null,
   "metadata": {},
   "outputs": [],
   "source": [
    "# import requests\n",
    "# from bs4 import BeautifulSoup\n",
    "## soup.get_text()\n",
    "\n",
    "# # Fetch the HTML content of the page\n",
    "# url = \"https://elaws.e-gov.go.jp/document?lawid=413M60000800151\"\n",
    "# response = requests.get(url)\n",
    "\n",
    "# # Check if the request was successful\n",
    "# if response.status_code == 200:\n",
    "#     # Parse the HTML content using BeautifulSoup\n",
    "#     soup = BeautifulSoup(response.content, 'html.parser')\n",
    "\n",
    "#     # Print the title of the page\n",
    "#     print(\"Page Title:\", soup.title.string)\n",
    "\n",
    "#     # Assuming the main content is within a specific div with a known class or id\n",
    "#     # Inspect the HTML structure to find the appropriate tag and class or id\n",
    "#     main_content = soup.find('div', id='lawArea')\n",
    "\n",
    "#     # Extract and print the main content\n",
    "#     if main_content:\n",
    "#         main_content = main_content.text.strip()\n",
    "#         print(\"Main Content:\")\n",
    "#         print(main_content)"
   ]
  },
  {
   "cell_type": "markdown",
   "metadata": {},
   "source": [
    "# Need OpenAi API Key version(In progress.)"
   ]
  },
  {
   "cell_type": "code",
   "execution_count": null,
   "metadata": {},
   "outputs": [],
   "source": [
    "# # Ref to https://qiita.com/t_serizawa/items/a2ced4441da714b3076f\n",
    "\n",
    "# %pip install langchain==0.0.163 >> install.txt\n",
    "# %pip install pygpt4all==1.1.0 >> install.txt\n",
    "# %pip install transformers >> install.txt\n",
    "# %pip install sentence_transformers >> install.txt\n",
    "# %pip install datasets >> install.txt\n",
    "# %pip install chromadb >> install.txt\n",
    "# %pip install tiktoken >> install.txt\n",
    "\n",
    "# import pandas as pd\n",
    "# from datasets import load_dataset\n",
    "\n",
    "# from langchain import PromptTemplate, LLMChain\n",
    "# from langchain.llms import GPT4All\n",
    "# from langchain.callbacks.streaming_stdout import StreamingStdOutCallbackHandler\n",
    "# from langchain.document_loaders import TextLoader\n",
    "# from langchain.indexes import VectorstoreIndexCreator\n",
    "# from langchain.embeddings import HuggingFaceEmbeddings\n",
    "# from langchain.vectorstores import Chroma\n",
    "\n",
    "# dataset = load_dataset('medical_dialog', 'processed.en', )\n",
    "# df = pd.DataFrame(dataset['train'])\n",
    "\n",
    "# dialog = []\n",
    "\n",
    "# # 患者と医者の発言をそれぞれ抽出した後、順にリストに格納\n",
    "# patient, doctor = zip(*df['utterances'])\n",
    "# for i in range(len(patient)):\n",
    "#   dialog.append(patient[i])\n",
    "#   dialog.append(doctor[i])\n",
    "\n",
    "# df_dialog = pd.DataFrame({\"dialog\": dialog})\n",
    "\n",
    "# # 成形終了したデータセットを保存\n",
    "# df_dialog.to_csv('medical_data.txt', sep=' ', index=False)\n",
    "\n",
    "# # Load the text file\n",
    "# loader = TextLoader('medical_data.txt', encoding=\"utf-8\")\n",
    "\n",
    "# # Create the vector store index\n",
    "# index = VectorstoreIndexCreator().from_loaders([loader])\n",
    "\n",
    "# results = index.vectorstore.similarity_search(\"what is the solution for soar throat\", k=4)\n",
    "# context = \"\\n\".join([document.page_content for document in results])\n",
    "# print(f\"{context}\")\n",
    "\n",
    "# template = \"\"\"\n",
    "# Please use the following context to answer questions.\n",
    "# Context: {context}\n",
    "# ---\n",
    "# Question: {question}\n",
    "# Answer: Let's think step by step.\"\"\"\n",
    "\n",
    "# prompt = PromptTemplate(template=template, input_variables=[\"context\", \"question\"]).partial(context=context)\n",
    "# print(prompt)"
   ]
  }
 ],
 "metadata": {
  "language_info": {
   "name": "python"
  }
 },
 "nbformat": 4,
 "nbformat_minor": 2
}
